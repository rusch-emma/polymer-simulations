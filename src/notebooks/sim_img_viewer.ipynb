{
 "cells": [
  {
   "source": [
    "## View .png map plots from a sims config file"
   ],
   "cell_type": "markdown",
   "metadata": {}
  },
  {
   "cell_type": "code",
   "execution_count": null,
   "metadata": {},
   "outputs": [],
   "source": [
    "import os\n",
    "import sys\n",
    "import yaml\n",
    "\n",
    "import ipywidgets as widgets\n",
    "from ipywidgets import Layout"
   ]
  },
  {
   "cell_type": "code",
   "execution_count": null,
   "metadata": {},
   "outputs": [],
   "source": [
    "CONFIG_FILE = 'path/to/config.yml'\n",
    "\n",
    "with open(CONFIG_FILE) as yml_file:\n",
    "    config = yaml.load(yml_file, Loader=yaml.FullLoader)\n",
    "\n",
    "results_dir = config['plots_dir']\n",
    "files = os.listdir(results_dir)"
   ]
  },
  {
   "cell_type": "code",
   "execution_count": null,
   "metadata": {},
   "outputs": [],
   "source": [
    "list = widgets.Select(\n",
    "    options=files,\n",
    "    description='Select a file to view:',\n",
    "    style={'description_width': 'initial'},\n",
    "    layout=Layout(height='500px', width='initial')\n",
    ")\n",
    "\n",
    "img_container = widgets.Image(\n",
    "    format='png',\n",
    "    width=800\n",
    ")\n",
    "\n",
    "def load_img(change):\n",
    "    with open(os.path.join(results_dir, list.value), 'br') as file:\n",
    "        image = file.read()\n",
    "        img_container.value = image\n",
    "\n",
    "list.observe(load_img, names='value')\n",
    "\n",
    "output = widgets.Output()\t\n",
    "main = widgets.HBox([list, img_container])\n",
    "\n",
    "display(main)"
   ]
  },
  {
   "cell_type": "code",
   "execution_count": null,
   "metadata": {},
   "outputs": [],
   "source": []
  }
 ],
 "metadata": {
  "kernelspec": {
   "display_name": "main_cuda",
   "language": "python",
   "name": "main"
  }
 },
 "nbformat": 4,
 "nbformat_minor": 4
}