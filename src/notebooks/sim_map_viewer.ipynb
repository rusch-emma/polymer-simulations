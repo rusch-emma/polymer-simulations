{
 "cells": [
  {
   "cell_type": "markdown",
   "metadata": {},
   "source": [
    "## Plot and view contact maps and ratios from a sims config file and pre-computed .npy contact maps"
   ]
  },
  {
   "cell_type": "code",
   "execution_count": null,
   "metadata": {},
   "outputs": [],
   "source": [
    "import os\n",
    "import sys\n",
    "import yaml\n",
    "\n",
    "import numpy as np\n",
    "from matplotlib.colors import LogNorm\n",
    "from matplotlib.ticker import EngFormatter\n",
    "import matplotlib.pyplot as plt\n",
    "import seaborn as sns\n",
    "import cooltools.lib.plotting\n",
    "\n",
    "import ipywidgets as widgets\n",
    "from ipywidgets import Layout\n",
    "\n",
    "np.seterr(divide='ignore', invalid='ignore')"
   ]
  },
  {
   "cell_type": "code",
   "execution_count": null,
   "metadata": {},
   "outputs": [],
   "source": [
    "CONFIG_FILE = '/users/emma.rusch/goloborodko-lab/code/baxterLab2020/src/sims/yeast_cen_intertwines_simple/configs/yeast_cen_intertwines_sweep.config.yml'\n",
    "OUTPUT = widgets.Output()\n",
    "\n",
    "    config = yaml.load(yml_file, Loader=yaml.FullLoader)\n",
    "\n",
    "results_dir = config['maps_dir']\n",
    "files = os.listdir(results_dir)"
   ]
  },
  {
   "cell_type": "code",
   "execution_count": null,
   "metadata": {},
   "outputs": [],
   "source": [
    "def plot_map(hmaps, titles, ratio):\n",
    "    with OUTPUT:\n",
    "        f, ax = plt.subplots(\n",
    "            figsize=(20, 18),\n",
    "            ncols=1 if len(hmaps) == 1 or ratio is True else 2)\n",
    "        bp_formatter = EngFormatter('b')\n",
    "\n",
    "        if len(hmaps) > 1:\n",
    "            if ratio:\n",
    "                # plot ratio map\n",
    "                hmap = hmaps[0] / hmaps[1]\n",
    "                img = ax.matshow(np.log10(hmap), vmin=-1, vmax=1, cmap='RdBu')\n",
    "                ax.set_title(f'{titles[0]} / {titles[1]}')\n",
    "            else:\n",
    "                ax[0].matshow(hmaps[0], norm=LogNorm(vmin=1, vmax=hmaps[0].max()), cmap='fall')\n",
    "                img = ax[1].matshow(hmaps[1], norm=LogNorm(vmin=1, vmax=hmaps[1].max()), cmap='fall')\n",
    "                ax[0].set_title(titles[0])\n",
    "                ax[1].set_title(titles[1])\n",
    "        else:\n",
    "            img = ax.matshow(hmaps[0], norm=LogNorm(vmin=1, vmax=hmaps[0].max()), cmap='fall')\n",
    "            ax.set_title(titles[0])\n",
    "\n",
    "        plt.colorbar(img, ax=ax ,fraction=0.046, pad=0.04, label='counts (log)')\n",
    "        \n",
    "        plt.show()"
   ]
  },
  {
   "cell_type": "code",
   "execution_count": null,
   "metadata": {},
   "outputs": [],
   "source": [
    "def callback_plot(change):\n",
    "    files = files_list.value\n",
    "    ratio = plot_ratio.value\n",
    "    with OUTPUT:\n",
    "        OUTPUT.clear_output()\n",
    "        hmaps = [np.load(os.path.join(results_dir, f + '.npy')) for f in files]\n",
    "        plot_map(hmaps, files, ratio)"
   ]
  },
  {
   "cell_type": "code",
   "execution_count": null,
   "metadata": {},
   "outputs": [],
   "source": [
    "display(widgets.Label('Select up to 2:'))\n",
    "files_list = widgets.SelectMultiple(\n",
    "    options=[os.path.splitext(f)[0] for f in sorted(files)],\n",
    "    description='',\n",
    "    style={'description_width': 'initial'},\n",
    "    layout=Layout(height='100%', width='initial'),\n",
    "    disabled=False\n",
    ")\n",
    "\n",
    "files_list.observe(callback_plot, names='value')\n",
    "\n",
    "plot_ratio = widgets.Checkbox(\n",
    "    value=False,\n",
    "    description='Ratio'\n",
    ")\n",
    "\n",
    "plot_ratio.observe(callback_plot, names='value')\n",
    "\n",
    "# TODO: implement filters\n",
    "param_label = widgets.Label('Filter by parameters:')\n",
    "param_widgets = {key: widgets.RadioButtons(\n",
    "        options=value,\n",
    "        value=None,\n",
    "        description=key[2:]\n",
    "    ) for key, value in config['cli_params'].items()}\n",
    "param_clear_btn = widgets.Button(\n",
    "    description='Clear filter'\n",
    ")\n",
    "\n",
    "def clear_filter(change):\n",
    "    for widget in param_widgets.values():\n",
    "        widget.value = None\n",
    "\n",
    "param_clear_btn.on_click(clear_filter)\n",
    "\n",
    "param_list = widgets.VBox([param_label, *param_widgets.values(), param_clear_btn])\n",
    "\n",
    "nav = widgets.VBox([plot_ratio, files_list])\n",
    "\n",
    "main = widgets.HBox([nav, OUTPUT])\n",
    "\n",
    "display(main)"
   ]
  }
 ],
 "metadata": {
  "kernelspec": {
   "display_name": "Python [conda env:.conda-main]",
   "language": "python",
   "name": "conda-env-.conda-main-py"
  },
  "language_info": {
   "codemirror_mode": {
    "name": "ipython",
    "version": 3
   },
   "file_extension": ".py",
   "mimetype": "text/x-python",
   "name": "python",
   "nbconvert_exporter": "python",
   "pygments_lexer": "ipython3",
   "version": "3.7.9"
  }
 },
 "nbformat": 4,
 "nbformat_minor": 4
}